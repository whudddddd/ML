{
 "cells": [
  {
   "cell_type": "code",
   "execution_count": 1,
   "metadata": {},
   "outputs": [],
   "source": [
    "import math"
   ]
  },
  {
   "cell_type": "code",
   "execution_count": 35,
   "metadata": {},
   "outputs": [
    {
     "name": "stdout",
     "output_type": "stream",
     "text": [
      "0.9709505944546686\n"
     ]
    }
   ],
   "source": [
    "def calcshannonent(dataSet):\n",
    "    numEntires = len(dataSet)                       \n",
    "    labelCounts = {}                                \n",
    "    for featVec in dataSet:                            \n",
    "        currentLabel = featVec[-1]                    \n",
    "        if currentLabel not in labelCounts.keys():   \n",
    "            labelCounts[currentLabel] = 0\n",
    "        labelCounts[currentLabel] += 1                \n",
    "    shannonEnt = 0.0                                \n",
    "    for key in labelCounts:                            \n",
    "        prob = float(labelCounts[key]) / numEntires    \n",
    "        shannonEnt -= prob * math.log(prob, 2)            \n",
    "    return shannonEnt                               \n",
    "            \n",
    "if __name__=='__main__':\n",
    "    dateSet,features=createDataSet()\n",
    "    print(calcshannonent(dataset))\n",
    "    "
   ]
  },
  {
   "cell_type": "code",
   "execution_count": 36,
   "metadata": {},
   "outputs": [],
   "source": [
    "def createDataSet():\n",
    "    dataSet = [[0, 0, 0, 0, 'no'],         #数据集\n",
    "            [0, 0, 0, 1, 'no'],\n",
    "            [0, 1, 0, 1, 'yes'],\n",
    "            [0, 1, 1, 0, 'yes'],\n",
    "            [0, 0, 0, 0, 'no'],\n",
    "            [1, 0, 0, 0, 'no'],\n",
    "            [1, 0, 0, 1, 'no'],\n",
    "            [1, 1, 1, 1, 'yes'],\n",
    "            [1, 0, 1, 2, 'yes'],\n",
    "            [1, 0, 1, 2, 'yes'],\n",
    "            [2, 0, 1, 2, 'yes'],\n",
    "            [2, 0, 1, 1, 'yes'],\n",
    "            [2, 1, 0, 1, 'yes'],\n",
    "            [2, 1, 0, 2, 'yes'],\n",
    "            [2, 0, 0, 0, 'no']]\n",
    "    labels = ['不放贷', '放贷']             #分类属性\n",
    "    return dataSet, labels       "
   ]
  },
  {
   "cell_type": "code",
   "execution_count": 37,
   "metadata": {},
   "outputs": [
    {
     "name": "stdout",
     "output_type": "stream",
     "text": [
      "[[0, 0, 0, 0, 'no'], [0, 0, 0, 1, 'no'], [0, 1, 0, 1, 'yes'], [0, 1, 1, 0, 'yes'], [0, 0, 0, 0, 'no'], [1, 0, 0, 0, 'no'], [1, 0, 0, 1, 'no'], [1, 1, 1, 1, 'yes'], [1, 0, 1, 2, 'yes'], [1, 0, 1, 2, 'yes'], [2, 0, 1, 2, 'yes'], [2, 0, 1, 1, 'yes'], [2, 1, 0, 1, 'yes'], [2, 1, 0, 2, 'yes'], [2, 0, 0, 0, 'no']]\n",
      "0.9709505944546686\n"
     ]
    }
   ],
   "source": [
    "if __name__ == '__main__':\n",
    "    dataset, features = createDataSet()\n",
    "    print(dataset)\n",
    "    print(calcshannonent(dataset))"
   ]
  },
  {
   "cell_type": "code",
   "execution_count": 38,
   "metadata": {},
   "outputs": [],
   "source": [
    "def splitdataset(dataset,axis,value):\n",
    "    retdataset=[]\n",
    "    for featvec in dataset:\n",
    "        if featvec[axis]==value:\n",
    "            reducedFeatVec = featvec[:axis]                #去掉axis特征\n",
    "            reducedFeatVec.extend(featvec[axis+1:])     #将符合条件的添加到返回的数据集\n",
    "            retdataset.append(reducedFeatVec)\n",
    "    return retdataset\n"
   ]
  },
  {
   "cell_type": "code",
   "execution_count": 39,
   "metadata": {},
   "outputs": [],
   "source": [
    "def  choosebestfeaturetosplit(dataset):\n",
    "    numfeatures=len(dataset[0])-1\n",
    "    baseentropy=calcshannonent(dataset)\n",
    "    bestinfogain=0.0\n",
    "    bestfeature=-1\n",
    "    for i in range(numfeatures):\n",
    "        fealist=[example[i]for example in dataset]\n",
    "        uniquevals=set(fealist)\n",
    "        newentropy = 0.0\n",
    "        for value in uniquevals:\n",
    "            subdataset=splitdataset(dataset,i,value)\n",
    "            prob=len(subdataset)/float(len(dataset))\n",
    "            newentropy+=prob * calcshannonent(subdataset)\n",
    "        infogai=baseentropy-newentropy\n",
    "        print(\"第%d个特征的增益为%.3f\"%(i,infogai))\n",
    "        if (infogai>bestinfogain):\n",
    "            bestinfogain=infogai\n",
    "            bestfeature=i\n",
    "    return bestfeature\n",
    "            \n",
    "        "
   ]
  },
  {
   "cell_type": "code",
   "execution_count": 40,
   "metadata": {},
   "outputs": [
    {
     "name": "stdout",
     "output_type": "stream",
     "text": [
      "第0个特征的增益为0.083\n",
      "第1个特征的增益为0.324\n",
      "第2个特征的增益为0.420\n",
      "第3个特征的增益为0.363\n",
      "最优特征索引值：2\n"
     ]
    }
   ],
   "source": [
    "dataset,features=createDataSet()\n",
    "print('最优特征索引值：'+ str(choosebestfeaturetosplit(dataset)))"
   ]
  },
  {
   "cell_type": "code",
   "execution_count": null,
   "metadata": {},
   "outputs": [],
   "source": []
  }
 ],
 "metadata": {
  "kernelspec": {
   "display_name": "Python 3",
   "language": "python",
   "name": "python3"
  },
  "language_info": {
   "codemirror_mode": {
    "name": "ipython",
    "version": 3
   },
   "file_extension": ".py",
   "mimetype": "text/x-python",
   "name": "python",
   "nbconvert_exporter": "python",
   "pygments_lexer": "ipython3",
   "version": "3.6.4"
  }
 },
 "nbformat": 4,
 "nbformat_minor": 2
}
