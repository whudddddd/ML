{
 "cells": [
  {
   "cell_type": "code",
   "execution_count": 20,
   "metadata": {},
   "outputs": [],
   "source": [
    "from sklearn import tree\n"
   ]
  },
  {
   "cell_type": "code",
   "execution_count": 23,
   "metadata": {},
   "outputs": [
    {
     "name": "stdout",
     "output_type": "stream",
     "text": [
      "           age astugmatic prescript tearrate\n",
      "0        young         no     myope  reduced\n",
      "1        young         no     myope   normal\n",
      "2        young        yes     myope  reduced\n",
      "3        young        yes     myope   normal\n",
      "4        young         no     hyper  reduced\n",
      "5        young         no     hyper   normal\n",
      "6        young        yes     hyper  reduced\n",
      "7        young        yes     hyper   normal\n",
      "8          pre         no     myope  reduced\n",
      "9          pre         no     myope   normal\n",
      "10         pre        yes     myope  reduced\n",
      "11         pre        yes     myope   normal\n",
      "12         pre         no     hyper  reduced\n",
      "13         pre         no     hyper   normal\n",
      "14         pre        yes     hyper  reduced\n",
      "15         pre        yes     hyper   normal\n",
      "16  presbyopic         no     myope  reduced\n",
      "17  presbyopic         no     myope   normal\n",
      "18  presbyopic        yes     myope  reduced\n",
      "19  presbyopic        yes     myope   normal\n",
      "20  presbyopic         no     hyper  reduced\n",
      "21  presbyopic         no     hyper   normal\n",
      "22  presbyopic        yes     hyper  reduced\n",
      "23  presbyopic        yes     hyper   normal\n"
     ]
    },
    {
     "data": {
      "text/plain": [
       "True"
      ]
     },
     "execution_count": 23,
     "metadata": {},
     "output_type": "execute_result"
    }
   ],
   "source": [
    "import pandas as pd\n",
    "from sklearn.preprocessing import LabelEncoder\n",
    "import pydotplus\n",
    "from sklearn.externals.six import StringIO\n",
    "\n",
    "with open('隐形眼镜.txt','r') as fr :\n",
    "    lense=[inst.strip().split('\\t')for inst in fr.readlines()]\n",
    "lense_target=[]\n",
    "for each in lense:\n",
    "    lense_target.append(each[-1])\n",
    "lenselables=['age','prescript','astugmatic','tearrate']\n",
    "lense_list=[]\n",
    "lense_dict={}\n",
    "for each_lable in lenselables:\n",
    "    for each in lense:\n",
    "        lense_list.append(each[lenselables.index(each_lable)])\n",
    "    lense_dict[each_lable]=lense_list\n",
    "    lense_list=[]\n",
    "lense_pd=pd.DataFrame(lense_dict)\n",
    "print(lense_pd)\n",
    "for col in lense_pd.columns:\n",
    "    lense_pd[col]=le.fit_transform(lense_pd[col])\n",
    "clf=tree.DecisionTreeClassifier(max_depth=4)\n",
    "clf=clf.fit(lense_pd.values.tolist(),lense_target)\n",
    "dot_data=StringIO()\n",
    "tree.export_graphviz(clf,out_file=dot_data,feature_names=lense_pd.keys(),class_names=clf.classes_,filled=True,rounded=True,special_characters=True)\n",
    "graph=pydotplus.graph_from_dot_data(dot_data.getvalue())\n",
    "graph.write_pdf('tree.pdf')\n",
    "\n"
   ]
  },
  {
   "cell_type": "code",
   "execution_count": 24,
   "metadata": {},
   "outputs": [
    {
     "data": {
      "text/plain": [
       "array(['no lenses'], dtype='<U9')"
      ]
     },
     "execution_count": 24,
     "metadata": {},
     "output_type": "execute_result"
    }
   ],
   "source": [
    "clf.predict([[1,1,0 ,0]])\n"
   ]
  },
  {
   "cell_type": "code",
   "execution_count": null,
   "metadata": {},
   "outputs": [],
   "source": []
  },
  {
   "cell_type": "code",
   "execution_count": null,
   "metadata": {},
   "outputs": [],
   "source": []
  }
 ],
 "metadata": {
  "kernelspec": {
   "display_name": "Python 3",
   "language": "python",
   "name": "python3"
  },
  "language_info": {
   "codemirror_mode": {
    "name": "ipython",
    "version": 3
   },
   "file_extension": ".py",
   "mimetype": "text/x-python",
   "name": "python",
   "nbconvert_exporter": "python",
   "pygments_lexer": "ipython3",
   "version": "3.6.4"
  }
 },
 "nbformat": 4,
 "nbformat_minor": 2
}
